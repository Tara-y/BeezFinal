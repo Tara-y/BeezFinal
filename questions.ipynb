{
 "cells": [
  {
   "cell_type": "code",
   "execution_count": 14,
   "metadata": {},
   "outputs": [
    {
     "name": "stdout",
     "output_type": "stream",
     "text": [
      "<class 'pandas.core.frame.DataFrame'>\n",
      "Index: 10562 entries, 0 to 10865\n",
      "Data columns (total 21 columns):\n",
      " #   Column                Non-Null Count  Dtype  \n",
      "---  ------                --------------  -----  \n",
      " 0   id                    10562 non-null  int64  \n",
      " 1   imdb_id               10554 non-null  object \n",
      " 2   popularity            10562 non-null  float64\n",
      " 3   budget                10562 non-null  int64  \n",
      " 4   revenue               10562 non-null  int64  \n",
      " 5   original_title        10562 non-null  object \n",
      " 6   cast                  10511 non-null  object \n",
      " 7   homepage              2852 non-null   object \n",
      " 8   director              10526 non-null  object \n",
      " 9   tagline               7940 non-null   object \n",
      " 10  keywords              9167 non-null   object \n",
      " 11  overview              10561 non-null  object \n",
      " 12  runtime               10562 non-null  int64  \n",
      " 13  genres                10546 non-null  object \n",
      " 14  production_companies  9621 non-null   object \n",
      " 15  release_date          10562 non-null  object \n",
      " 16  vote_count            10562 non-null  int64  \n",
      " 17  vote_average          10562 non-null  float64\n",
      " 18  release_year          10562 non-null  int64  \n",
      " 19  budget_adj            10562 non-null  float64\n",
      " 20  revenue_adj           10562 non-null  float64\n",
      "dtypes: float64(4), int64(6), object(11)\n",
      "memory usage: 1.8+ MB\n"
     ]
    },
    {
     "data": {
      "text/plain": [
       "id                         0\n",
       "imdb_id                    8\n",
       "popularity                 0\n",
       "budget                     0\n",
       "revenue                    0\n",
       "original_title             0\n",
       "cast                      51\n",
       "homepage                7710\n",
       "director                  36\n",
       "tagline                 2622\n",
       "keywords                1395\n",
       "overview                   1\n",
       "runtime                    0\n",
       "genres                    16\n",
       "production_companies     941\n",
       "release_date               0\n",
       "vote_count                 0\n",
       "vote_average               0\n",
       "release_year               0\n",
       "budget_adj                 0\n",
       "revenue_adj                0\n",
       "dtype: int64"
      ]
     },
     "execution_count": 14,
     "metadata": {},
     "output_type": "execute_result"
    }
   ],
   "source": [
    "#0\n",
    "import pandas as pd\n",
    "movies = pd.read_csv('imdb_movies.csv')\n",
    "movies.drop_duplicates()\n",
    "movies = movies.dropna(subset=['runtime'])\n",
    "movies = movies[(movies[\"runtime\"] >= 30) & (movies[\"runtime\"] <= 200)]\n",
    "movies\n",
    "movies.info()\n",
    "movies.isnull().sum()"
   ]
  },
  {
   "cell_type": "code",
   "execution_count": 15,
   "metadata": {},
   "outputs": [
    {
     "data": {
      "text/plain": [
       "release_year\n",
       "2014    681\n",
       "2013    634\n",
       "2015    606\n",
       "2012    566\n",
       "2009    515\n",
       "2011    506\n",
       "2008    482\n",
       "2010    466\n",
       "2007    430\n",
       "2006    396\n",
       "2005    354\n",
       "2004    303\n",
       "2003    263\n",
       "2002    257\n",
       "2001    238\n",
       "1999    223\n",
       "2000    220\n",
       "1998    210\n",
       "1996    202\n",
       "1997    189\n",
       "1994    181\n",
       "1993    176\n",
       "1995    173\n",
       "1988    144\n",
       "1989    135\n",
       "1991    132\n",
       "1990    131\n",
       "1992    131\n",
       "1987    123\n",
       "1986    119\n",
       "1985    107\n",
       "1984    102\n",
       "1981     82\n",
       "1982     79\n",
       "1983     78\n",
       "1980     77\n",
       "1978     65\n",
       "1977     57\n",
       "1979     57\n",
       "1971     55\n",
       "1973     54\n",
       "1976     47\n",
       "1974     46\n",
       "1975     44\n",
       "1966     43\n",
       "1964     41\n",
       "1970     40\n",
       "1972     40\n",
       "1967     39\n",
       "1968     36\n",
       "1965     34\n",
       "1963     32\n",
       "1960     31\n",
       "1961     31\n",
       "1962     30\n",
       "1969     29\n",
       "Name: count, dtype: int64"
      ]
     },
     "execution_count": 15,
     "metadata": {},
     "output_type": "execute_result"
    }
   ],
   "source": [
    "#1\n",
    "my = movies.release_year.value_counts()\n",
    "my"
   ]
  },
  {
   "cell_type": "code",
   "execution_count": 16,
   "metadata": {},
   "outputs": [
    {
     "data": {
      "image/png": "[encoded data removed]",
      "text/plain": [
       "<Figure size 640x480 with 1 Axes>"
      ]
     },
     "metadata": {},
     "output_type": "display_data"
    }
   ],
   "source": [
    "#2\n",
    "import matplotlib.pyplot as plt\n",
    "plt.plot(my.index,my.values)\n",
    "plt.show()"
   ]
  },
  {
   "cell_type": "code",
   "execution_count": 17,
   "metadata": {},
   "outputs": [
    {
     "data": {
      "text/plain": [
       "102.61673925392918"
      ]
     },
     "execution_count": 17,
     "metadata": {},
     "output_type": "execute_result"
    }
   ],
   "source": [
    "#3\n",
    "# movies.drop_duplicates()\n",
    "# movies = movies.dropna(subset=['runtime'])\n",
    "# movies = movies[(movies[\"runtime\"] >= 30) & (movies[\"runtime\"] <= 200)]\n",
    "movies.runtime.mean()"
   ]
  },
  {
   "cell_type": "code",
   "execution_count": 18,
   "metadata": {},
   "outputs": [
    {
     "data": {
      "text/plain": [
       "release_year\n",
       "1960    1.791935\n",
       "1961    1.990323\n",
       "1962    1.975000\n",
       "1963    1.832812\n",
       "1964    1.853252\n",
       "1965    2.015196\n",
       "1966    1.876357\n",
       "1967    1.792308\n",
       "1968    1.920833\n",
       "1969    1.883333\n",
       "1970    1.820417\n",
       "1971    1.795455\n",
       "1972    1.699167\n",
       "1973    1.749691\n",
       "1974    1.796739\n",
       "1975    1.789394\n",
       "1976    1.821986\n",
       "1977    1.785088\n",
       "1978    1.834615\n",
       "1979    1.866959\n",
       "1980    1.767532\n",
       "1981    1.764431\n",
       "1982    1.769198\n",
       "1983    1.752350\n",
       "1984    1.732680\n",
       "1985    1.765732\n",
       "1986    1.690896\n",
       "1987    1.681843\n",
       "1988    1.707755\n",
       "1989    1.725802\n",
       "1990    1.771374\n",
       "1991    1.735354\n",
       "1992    1.782061\n",
       "1993    1.779261\n",
       "1994    1.751381\n",
       "1995    1.762620\n",
       "1996    1.758251\n",
       "1997    1.778571\n",
       "1998    1.751032\n",
       "1999    1.803288\n",
       "2000    1.728712\n",
       "2001    1.752941\n",
       "2002    1.709144\n",
       "2003    1.719772\n",
       "2004    1.741529\n",
       "2005    1.726412\n",
       "2006    1.699832\n",
       "2007    1.689574\n",
       "2008    1.675380\n",
       "2009    1.652330\n",
       "2010    1.657833\n",
       "2011    1.654611\n",
       "2012    1.655300\n",
       "2013    1.647950\n",
       "2014    1.657146\n",
       "2015    1.641557\n",
       "Name: runtime, dtype: float64"
      ]
     },
     "execution_count": 18,
     "metadata": {},
     "output_type": "execute_result"
    }
   ],
   "source": [
    "#4\n",
    "movies_year = movies.groupby(movies.release_year)\n",
    "movies_year.runtime.mean().div(60)\n"
   ]
  },
  {
   "cell_type": "code",
   "execution_count": 19,
   "metadata": {},
   "outputs": [
    {
     "name": "stdout",
     "output_type": "stream",
     "text": [
      "200\n",
      "30\n"
     ]
    }
   ],
   "source": [
    "#5\n",
    "# movies.drop_duplicates()\n",
    "# movies = movies.dropna(subset=['runtime'])\n",
    "max_runtime = movies[\"runtime\"].max()\n",
    "min_runtime = movies[\"runtime\"].min()\n",
    "print(max_runtime)\n",
    "print(min_runtime)"
   ]
  },
  {
   "cell_type": "code",
   "execution_count": 20,
   "metadata": {},
   "outputs": [
    {
     "name": "stdout",
     "output_type": "stream",
     "text": [
      "release_year\n",
      "1960    197\n",
      "1961    186\n",
      "1962    178\n",
      "1963    172\n",
      "1964    170\n",
      "1965    199\n",
      "1966    182\n",
      "1967    152\n",
      "1968    155\n",
      "1969    158\n",
      "1970    195\n",
      "1971    189\n",
      "1972    175\n",
      "1973    151\n",
      "1974    200\n",
      "1975    184\n",
      "1976    139\n",
      "1977    177\n",
      "1978    183\n",
      "1979    184\n",
      "1980    144\n",
      "1981    195\n",
      "1982    191\n",
      "1983    197\n",
      "1984    163\n",
      "1985    199\n",
      "1986    142\n",
      "1987    163\n",
      "1988    180\n",
      "1989    145\n",
      "1990    192\n",
      "1991    189\n",
      "1992    157\n",
      "1993    195\n",
      "1994    191\n",
      "1995    192\n",
      "1996    186\n",
      "1997    194\n",
      "1998    182\n",
      "1999    189\n",
      "2000    180\n",
      "2001    183\n",
      "2002    180\n",
      "2003    182\n",
      "2004    184\n",
      "2005    187\n",
      "2006    185\n",
      "2007    191\n",
      "2008    191\n",
      "2009    185\n",
      "2010    184\n",
      "2011    192\n",
      "2012    182\n",
      "2013    186\n",
      "2014    169\n",
      "2015    168\n",
      "Name: runtime, dtype: int64\n",
      "release_year\n",
      "1960    70\n",
      "1961    79\n",
      "1962    78\n",
      "1963    79\n",
      "1964    52\n",
      "1965    80\n",
      "1966    74\n",
      "1967    55\n",
      "1968    86\n",
      "1969    85\n",
      "1970    48\n",
      "1971    73\n",
      "1972    78\n",
      "1973    74\n",
      "1974    51\n",
      "1975    72\n",
      "1976    80\n",
      "1977    48\n",
      "1978    76\n",
      "1979    78\n",
      "1980    74\n",
      "1981    55\n",
      "1982    76\n",
      "1983    69\n",
      "1984    77\n",
      "1985    77\n",
      "1986    74\n",
      "1987    36\n",
      "1988    43\n",
      "1989    78\n",
      "1990    71\n",
      "1991    75\n",
      "1992    61\n",
      "1993    30\n",
      "1994    69\n",
      "1995    30\n",
      "1996    73\n",
      "1997    54\n",
      "1998    44\n",
      "1999    33\n",
      "2000    30\n",
      "2001    65\n",
      "2002    42\n",
      "2003    49\n",
      "2004    30\n",
      "2005    47\n",
      "2006    32\n",
      "2007    48\n",
      "2008    30\n",
      "2009    30\n",
      "2010    30\n",
      "2011    40\n",
      "2012    41\n",
      "2013    44\n",
      "2014    41\n",
      "2015    30\n",
      "Name: runtime, dtype: int64\n"
     ]
    }
   ],
   "source": [
    "#6\n",
    "# movies.drop_duplicates()\n",
    "# movies = movies.dropna(subset=['runtime'])\n",
    "# movies = movies[(movies[\"runtime\"] >= 30) & (movies[\"runtime\"] <= 200)]\n",
    "max_runtime_per_year = movies.groupby(\"release_year\")[\"runtime\"].max()\n",
    "min_runtime_per_year = movies.groupby(\"release_year\")[\"runtime\"].min()\n",
    "print(max_runtime_per_year)\n",
    "print(min_runtime_per_year)"
   ]
  },
  {
   "cell_type": "code",
   "execution_count": 21,
   "metadata": {},
   "outputs": [
    {
     "data": {
      "text/plain": [
       "30840726.76608187"
      ]
     },
     "execution_count": 21,
     "metadata": {},
     "output_type": "execute_result"
    }
   ],
   "source": [
    "#8 Ali\n",
    "cleared_budget = movies.loc[movies[\"budget\"] != 0]\n",
    "cleared_budget['budget'].mean()"
   ]
  },
  {
   "cell_type": "code",
   "execution_count": 22,
   "metadata": {},
   "outputs": [
    {
     "data": {
      "text/plain": [
       "89132721.04940058"
      ]
     },
     "execution_count": 22,
     "metadata": {},
     "output_type": "execute_result"
    }
   ],
   "source": [
    "#9 Ali\n",
    "cleared_revenue = movies.loc[movies[\"revenue\"] != 0]\n",
    "cleared_revenue['revenue'].mean()"
   ]
  },
  {
   "cell_type": "code",
   "execution_count": 23,
   "metadata": {},
   "outputs": [
    {
     "data": {
      "text/plain": [
       "['Paramount Pictures']"
      ]
     },
     "execution_count": 23,
     "metadata": {},
     "output_type": "execute_result"
    }
   ],
   "source": [
    "# 15 amin\n",
    "production_companies = movies['production_companies'].str.split(',')\n",
    "company_counts = production_companies.value_counts()\n",
    "most_productive_company = company_counts.index[company_counts.argmax()]\n",
    "most_productive_company"
   ]
  },
  {
   "cell_type": "code",
   "execution_count": 24,
   "metadata": {},
   "outputs": [
    {
     "name": "stdout",
     "output_type": "stream",
     "text": [
      "TOP 5 movies:\n",
      "  1. Inception (9767)\n",
      "  2. The Avengers (8903)\n",
      "  3. Avatar (8458)\n",
      "  4. The Dark Knight (8432)\n",
      "  5. Django Unchained (7375)\n"
     ]
    }
   ],
   "source": [
    "# 16 \n",
    "top_5_voted_movies = movies.sort_values('vote_count', ascending=False).head(5)\n",
    "\n",
    "print(\"TOP 5 movies:\")\n",
    "for i in range(5):\n",
    "  print(f\"  {i+1}. {top_5_voted_movies['original_title'].values[i]} ({top_5_voted_movies['vote_count'].values[i]})\")\n"
   ]
  },
  {
   "cell_type": "code",
   "execution_count": 9,
   "metadata": {},
   "outputs": [
    {
     "name": "stdout",
     "output_type": "stream",
     "text": [
      "TOP 5 rateed:\n",
      "  1. The Story of Film: An Odyssey (9.2)\n",
      "  2. The Mask You Live In (8.9)\n",
      "  3. Life Cycles (8.8)\n",
      "  4. Black Mirror: White Christmas (8.8)\n",
      "  5. Pink Floyd: Pulse (8.7)\n"
     ]
    }
   ],
   "source": [
    "# 17\n",
    "top_5_rated_movies = movies.sort_values('vote_average', ascending=False).head(5)\n",
    "\n",
    "print(\"TOP 5 rateed:\")\n",
    "for i in range(5):\n",
    "  print(f\"  {i+1}. {top_5_rated_movies['original_title'].values[i]} ({top_5_rated_movies['vote_average'].values[i]})\")\n"
   ]
  }
 ],
 "metadata": {
  "kernelspec": {
   "display_name": "Python 3",
   "language": "python",
   "name": "python3"
  },
  "language_info": {
   "codemirror_mode": {
    "name": "ipython",
    "version": 3
   },
   "file_extension": ".py",
   "mimetype": "text/x-python",
   "name": "python",
   "nbconvert_exporter": "python",
   "pygments_lexer": "ipython3",
   "version": "3.10.12"
  }
 },
 "nbformat": 4,
 "nbformat_minor": 2
}
